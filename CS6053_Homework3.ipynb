{
  "nbformat": 4,
  "nbformat_minor": 0,
  "metadata": {
    "colab": {
      "name": "CS6053_Homework3.ipynb",
      "provenance": [],
      "collapsed_sections": [],
      "include_colab_link": true
    },
    "kernelspec": {
      "display_name": "Python 3",
      "language": "python",
      "name": "python3"
    },
    "language_info": {
      "codemirror_mode": {
        "name": "ipython",
        "version": 3
      },
      "file_extension": ".py",
      "mimetype": "text/x-python",
      "name": "python",
      "nbconvert_exporter": "python",
      "pygments_lexer": "ipython3",
      "version": "3.7.3"
    }
  },
  "cells": [
    {
      "cell_type": "markdown",
      "metadata": {
        "id": "view-in-github",
        "colab_type": "text"
      },
      "source": [
        "<a href=\"https://colab.research.google.com/github/gandalf1819/Data-Science-portfolio/blob/master/CS6053_Homework3.ipynb\" target=\"_parent\"><img src=\"https://colab.research.google.com/assets/colab-badge.svg\" alt=\"Open In Colab\"/></a>"
      ]
    },
    {
      "cell_type": "markdown",
      "metadata": {
        "colab_type": "text",
        "id": "7u9ej5ebNIzW"
      },
      "source": [
        "# Foundations of Data Science\n",
        "## Homework 3"
      ]
    },
    {
      "cell_type": "markdown",
      "metadata": {
        "colab_type": "text",
        "id": "2ow7l_uGNIza"
      },
      "source": [
        "Student Name: Chinmay Wyawahare \n",
        "\n",
        "Student Netid: cnw282\n",
        "***"
      ]
    },
    {
      "cell_type": "markdown",
      "metadata": {
        "colab_type": "text",
        "id": "PSNtE3HdNIzc"
      },
      "source": [
        "### Part 1 - Preparing a Training Set and Training a Decision Tree (Total 10 Points)\n",
        "This is a hands-on task where we build a predictive model using Decision Trees discussed in class. For this part, we will be using the data in `Cell2Cell_data.csv` (you can find this in the data folder).\n",
        "\n",
        "These historical data consist of 39,859 customers: 19,901 customers that churned (i.e., left the company) and 19,958 that did not churn (see the `\"churndep\"` variable). Here are the data set's 11 possible predictor variables for churning behavior: \n",
        "\n",
        "```\n",
        "Pos.  Var. Name  Var. Description\n",
        "----- ---------- --------------------------------------------------------------\n",
        "1     revenue    Mean monthly revenue in dollars\n",
        "2     outcalls   Mean number of outbound voice calls\n",
        "3     incalls    Mean number of inbound voice calls\n",
        "4     months     Months in Service\n",
        "5     eqpdays    Number of days the customer has had his/her current equipment\n",
        "6     webcap     Handset is web capable\n",
        "7     marryyes   Married (1=Yes; 0=No)\n",
        "8     travel     Has traveled to non-US country (1=Yes; 0=No)\n",
        "9     pcown      Owns a personal computer (1=Yes; 0=No)\n",
        "10    creditcd   Possesses a credit card (1=Yes; 0=No)\n",
        "11    retcalls   Number of calls previously made to retention team\n",
        "```\n",
        "\n",
        "The 12th column, the dependent variable `\"churndep\"`, equals 1 if the customer churned, and 0 otherwise. "
      ]
    },
    {
      "cell_type": "markdown",
      "metadata": {
        "colab_type": "text",
        "id": "6iI2F0qFNIzf"
      },
      "source": [
        "1\\. Load the data and prepare it for modeling. Note that the features are already processed for you, so the only thing needed here is split the data into training and testing. Use pandas to create two data frames: train_df and test_df, where train_df has 80% of the data chosen uniformly at random without replacement (test_df should have the other 20%). Also, make sure to write your own code to do the splits. You may use any random() function from numpy but do not use the data splitting functions from Sklearn.<br><br>\n",
        "\n",
        "(2 Points)"
      ]
    },
    {
      "cell_type": "code",
      "metadata": {
        "colab_type": "code",
        "id": "1jKpiEdGNIzh",
        "colab": {}
      },
      "source": [
        "import pandas as pd\n",
        "import numpy as np\n",
        "from sklearn.tree import DecisionTreeClassifier\n",
        "from sklearn.model_selection import cross_val_score\n",
        "from sklearn import metrics"
      ],
      "execution_count": 0,
      "outputs": []
    },
    {
      "cell_type": "code",
      "metadata": {
        "colab_type": "code",
        "id": "mIHbrP3JNxL7",
        "outputId": "76b75b60-d868-4b8c-951c-10b0814df499",
        "colab": {
          "base_uri": "https://localhost:8080/",
          "height": 124
        }
      },
      "source": [
        "from google.colab import drive\n",
        "drive.mount('/content/gdrive')"
      ],
      "execution_count": 0,
      "outputs": [
        {
          "output_type": "stream",
          "text": [
            "Go to this URL in a browser: https://accounts.google.com/o/oauth2/auth?client_id=947318989803-6bn6qk8qdgf4n4g3pfee6491hc0brc4i.apps.googleusercontent.com&redirect_uri=urn%3Aietf%3Awg%3Aoauth%3A2.0%3Aoob&scope=email%20https%3A%2F%2Fwww.googleapis.com%2Fauth%2Fdocs.test%20https%3A%2F%2Fwww.googleapis.com%2Fauth%2Fdrive%20https%3A%2F%2Fwww.googleapis.com%2Fauth%2Fdrive.photos.readonly%20https%3A%2F%2Fwww.googleapis.com%2Fauth%2Fpeopleapi.readonly&response_type=code\n",
            "\n",
            "Enter your authorization code:\n",
            "··········\n",
            "Mounted at /content/gdrive\n"
          ],
          "name": "stdout"
        }
      ]
    },
    {
      "cell_type": "code",
      "metadata": {
        "colab_type": "code",
        "id": "1xKDcjjtOXMw",
        "outputId": "636270d2-a1dd-4809-97a0-cde783138a3b",
        "colab": {
          "base_uri": "https://localhost:8080/",
          "height": 226
        }
      },
      "source": [
        "cell = pd.read_csv(\"/content/gdrive/My Drive/CS6053_HW3/Cell2Cell_data.csv\")\n",
        "cell.head()"
      ],
      "execution_count": 0,
      "outputs": [
        {
          "output_type": "execute_result",
          "data": {
            "text/html": [
              "<div>\n",
              "<style scoped>\n",
              "    .dataframe tbody tr th:only-of-type {\n",
              "        vertical-align: middle;\n",
              "    }\n",
              "\n",
              "    .dataframe tbody tr th {\n",
              "        vertical-align: top;\n",
              "    }\n",
              "\n",
              "    .dataframe thead th {\n",
              "        text-align: right;\n",
              "    }\n",
              "</style>\n",
              "<table border=\"1\" class=\"dataframe\">\n",
              "  <thead>\n",
              "    <tr style=\"text-align: right;\">\n",
              "      <th></th>\n",
              "      <th>revenue</th>\n",
              "      <th>outcalls</th>\n",
              "      <th>incalls</th>\n",
              "      <th>months</th>\n",
              "      <th>eqpdays</th>\n",
              "      <th>webcap</th>\n",
              "      <th>marryyes</th>\n",
              "      <th>travel</th>\n",
              "      <th>pcown</th>\n",
              "      <th>creditcd</th>\n",
              "      <th>retcalls</th>\n",
              "      <th>churndep</th>\n",
              "    </tr>\n",
              "  </thead>\n",
              "  <tbody>\n",
              "    <tr>\n",
              "      <th>0</th>\n",
              "      <td>48.82</td>\n",
              "      <td>10.00</td>\n",
              "      <td>3.0</td>\n",
              "      <td>26</td>\n",
              "      <td>780</td>\n",
              "      <td>0</td>\n",
              "      <td>0</td>\n",
              "      <td>0</td>\n",
              "      <td>0</td>\n",
              "      <td>1</td>\n",
              "      <td>4</td>\n",
              "      <td>1</td>\n",
              "    </tr>\n",
              "    <tr>\n",
              "      <th>1</th>\n",
              "      <td>83.53</td>\n",
              "      <td>20.00</td>\n",
              "      <td>1.0</td>\n",
              "      <td>31</td>\n",
              "      <td>745</td>\n",
              "      <td>1</td>\n",
              "      <td>0</td>\n",
              "      <td>0</td>\n",
              "      <td>0</td>\n",
              "      <td>0</td>\n",
              "      <td>4</td>\n",
              "      <td>1</td>\n",
              "    </tr>\n",
              "    <tr>\n",
              "      <th>2</th>\n",
              "      <td>29.99</td>\n",
              "      <td>0.00</td>\n",
              "      <td>0.0</td>\n",
              "      <td>52</td>\n",
              "      <td>1441</td>\n",
              "      <td>0</td>\n",
              "      <td>0</td>\n",
              "      <td>0</td>\n",
              "      <td>1</td>\n",
              "      <td>1</td>\n",
              "      <td>3</td>\n",
              "      <td>1</td>\n",
              "    </tr>\n",
              "    <tr>\n",
              "      <th>3</th>\n",
              "      <td>51.42</td>\n",
              "      <td>0.00</td>\n",
              "      <td>0.0</td>\n",
              "      <td>36</td>\n",
              "      <td>59</td>\n",
              "      <td>1</td>\n",
              "      <td>0</td>\n",
              "      <td>0</td>\n",
              "      <td>0</td>\n",
              "      <td>0</td>\n",
              "      <td>4</td>\n",
              "      <td>1</td>\n",
              "    </tr>\n",
              "    <tr>\n",
              "      <th>4</th>\n",
              "      <td>37.75</td>\n",
              "      <td>2.67</td>\n",
              "      <td>0.0</td>\n",
              "      <td>25</td>\n",
              "      <td>572</td>\n",
              "      <td>0</td>\n",
              "      <td>0</td>\n",
              "      <td>0</td>\n",
              "      <td>1</td>\n",
              "      <td>1</td>\n",
              "      <td>3</td>\n",
              "      <td>1</td>\n",
              "    </tr>\n",
              "  </tbody>\n",
              "</table>\n",
              "</div>"
            ],
            "text/plain": [
              "   revenue  outcalls  incalls  months  ...  pcown  creditcd  retcalls  churndep\n",
              "0    48.82     10.00      3.0      26  ...      0         1         4         1\n",
              "1    83.53     20.00      1.0      31  ...      0         0         4         1\n",
              "2    29.99      0.00      0.0      52  ...      1         1         3         1\n",
              "3    51.42      0.00      0.0      36  ...      0         0         4         1\n",
              "4    37.75      2.67      0.0      25  ...      1         1         3         1\n",
              "\n",
              "[5 rows x 12 columns]"
            ]
          },
          "metadata": {
            "tags": []
          },
          "execution_count": 4
        }
      ]
    },
    {
      "cell_type": "code",
      "metadata": {
        "colab_type": "code",
        "id": "BmwNTT4ENIzp",
        "outputId": "ba60f0aa-8ee7-47e8-ca85-3aba214dbef1",
        "colab": {
          "base_uri": "https://localhost:8080/",
          "height": 226
        }
      },
      "source": [
        "train_df = cell.sample(frac=0.8, random_state=1) # 80% of data chosen randomly without replacement\n",
        "test_df = cell.drop(train_df.index) # 20% of the remaining data\n",
        "# train_df.head()\n",
        "test_df.head()"
      ],
      "execution_count": 0,
      "outputs": [
        {
          "output_type": "execute_result",
          "data": {
            "text/html": [
              "<div>\n",
              "<style scoped>\n",
              "    .dataframe tbody tr th:only-of-type {\n",
              "        vertical-align: middle;\n",
              "    }\n",
              "\n",
              "    .dataframe tbody tr th {\n",
              "        vertical-align: top;\n",
              "    }\n",
              "\n",
              "    .dataframe thead th {\n",
              "        text-align: right;\n",
              "    }\n",
              "</style>\n",
              "<table border=\"1\" class=\"dataframe\">\n",
              "  <thead>\n",
              "    <tr style=\"text-align: right;\">\n",
              "      <th></th>\n",
              "      <th>revenue</th>\n",
              "      <th>outcalls</th>\n",
              "      <th>incalls</th>\n",
              "      <th>months</th>\n",
              "      <th>eqpdays</th>\n",
              "      <th>webcap</th>\n",
              "      <th>marryyes</th>\n",
              "      <th>travel</th>\n",
              "      <th>pcown</th>\n",
              "      <th>creditcd</th>\n",
              "      <th>retcalls</th>\n",
              "      <th>churndep</th>\n",
              "    </tr>\n",
              "  </thead>\n",
              "  <tbody>\n",
              "    <tr>\n",
              "      <th>9</th>\n",
              "      <td>53.69</td>\n",
              "      <td>15.00</td>\n",
              "      <td>2.33</td>\n",
              "      <td>23</td>\n",
              "      <td>267</td>\n",
              "      <td>1</td>\n",
              "      <td>0</td>\n",
              "      <td>0</td>\n",
              "      <td>0</td>\n",
              "      <td>1</td>\n",
              "      <td>3</td>\n",
              "      <td>1</td>\n",
              "    </tr>\n",
              "    <tr>\n",
              "      <th>14</th>\n",
              "      <td>7.82</td>\n",
              "      <td>0.00</td>\n",
              "      <td>0.00</td>\n",
              "      <td>24</td>\n",
              "      <td>561</td>\n",
              "      <td>0</td>\n",
              "      <td>0</td>\n",
              "      <td>0</td>\n",
              "      <td>0</td>\n",
              "      <td>0</td>\n",
              "      <td>2</td>\n",
              "      <td>1</td>\n",
              "    </tr>\n",
              "    <tr>\n",
              "      <th>15</th>\n",
              "      <td>25.14</td>\n",
              "      <td>15.00</td>\n",
              "      <td>1.00</td>\n",
              "      <td>25</td>\n",
              "      <td>743</td>\n",
              "      <td>1</td>\n",
              "      <td>0</td>\n",
              "      <td>0</td>\n",
              "      <td>0</td>\n",
              "      <td>0</td>\n",
              "      <td>2</td>\n",
              "      <td>1</td>\n",
              "    </tr>\n",
              "    <tr>\n",
              "      <th>18</th>\n",
              "      <td>5.00</td>\n",
              "      <td>0.00</td>\n",
              "      <td>0.00</td>\n",
              "      <td>53</td>\n",
              "      <td>1584</td>\n",
              "      <td>0</td>\n",
              "      <td>1</td>\n",
              "      <td>1</td>\n",
              "      <td>1</td>\n",
              "      <td>1</td>\n",
              "      <td>1</td>\n",
              "      <td>1</td>\n",
              "    </tr>\n",
              "    <tr>\n",
              "      <th>20</th>\n",
              "      <td>49.16</td>\n",
              "      <td>8.67</td>\n",
              "      <td>0.00</td>\n",
              "      <td>47</td>\n",
              "      <td>1434</td>\n",
              "      <td>0</td>\n",
              "      <td>1</td>\n",
              "      <td>0</td>\n",
              "      <td>0</td>\n",
              "      <td>1</td>\n",
              "      <td>1</td>\n",
              "      <td>1</td>\n",
              "    </tr>\n",
              "  </tbody>\n",
              "</table>\n",
              "</div>"
            ],
            "text/plain": [
              "    revenue  outcalls  incalls  months  ...  pcown  creditcd  retcalls  churndep\n",
              "9     53.69     15.00     2.33      23  ...      0         1         3         1\n",
              "14     7.82      0.00     0.00      24  ...      0         0         2         1\n",
              "15    25.14     15.00     1.00      25  ...      0         0         2         1\n",
              "18     5.00      0.00     0.00      53  ...      1         1         1         1\n",
              "20    49.16      8.67     0.00      47  ...      0         1         1         1\n",
              "\n",
              "[5 rows x 12 columns]"
            ]
          },
          "metadata": {
            "tags": []
          },
          "execution_count": 5
        }
      ]
    },
    {
      "cell_type": "markdown",
      "metadata": {
        "colab_type": "text",
        "id": "uwdXkTklNIzt"
      },
      "source": [
        "2\\. If we had to, how would we prove to ourselves or a colleague that our data was indeed randomly sampled on X? And by prove, I mean empirically, not just showing this person our code. Don't actually do the work, just describe in your own words a test you could here. Hint: think about this in terms of selection bias and use notes from our 2nd lecture.\n",
        "\n",
        "(1 Point)"
      ]
    },
    {
      "cell_type": "markdown",
      "metadata": {
        "colab_type": "text",
        "id": "1pg4lRnFNIzv"
      },
      "source": [
        "\n",
        "<span style=\"color:blue\">\n",
        "Originally, the customers that churned and the customers that did not churn had the equal compostion which is about 50:50. After we randomly split the dataset in training and test dataset with 80% split for training and 20% split for testing, we have to ensure the composition of customers that churned and the customers that did not churn in each of the splits - 'train_df' and 'test_df'\n",
        "  \n",
        "We can ensure this by counting the number of customers that churned in train_df will be almost equal to number of customers that did not churn in train_df. Similarly for the number of customers that churned in test_df will be almost equal to the number of customers that did not churn in test_df.   \n",
        "  \n",
        "P(Churned | train_df) = P(Churned) <br>\n",
        "P(Not churned | train_df) = P(Not churned)   \n",
        "  \n",
        "Thus, we can mathematically ensure that probability of the number of customers that churned in train_df is equal to the number of customers that churned in complete dataset. Similarly for the probability of number of customers that did not churn in train_df dataset will be equal to probability of the number of customers that did not churn in the complete dataset. Thus, the composition in the splits is independent of the percentage of splits.\n",
        "</span>\n",
        "</p>"
      ]
    },
    {
      "cell_type": "markdown",
      "metadata": {
        "colab_type": "text",
        "id": "GRi4aDIFNIzv"
      },
      "source": [
        "3\\. Now build and train a decision tree classifier using `DecisionTreeClassifier()` [(manual page)](http://scikit-learn.org/stable/modules/generated/sklearn.tree.DecisionTreeClassifier.html) on train_df to predict the `\"churndep\"` target variable. Make sure to use `criterion='entropy'` when instantiating an instance of `DecisionTreeClassifier()`. For all other settings you should use all of the default options.\n",
        "\n",
        "(1 Point)"
      ]
    },
    {
      "cell_type": "code",
      "metadata": {
        "colab_type": "code",
        "id": "kMFChagrNIzx",
        "outputId": "60c43b5a-1b93-4718-d477-264b3263d5c8",
        "colab": {
          "base_uri": "https://localhost:8080/",
          "height": 141
        }
      },
      "source": [
        "clf = DecisionTreeClassifier(criterion='entropy')\n",
        "\n",
        "# Train Decision Tree Clasifier\n",
        "y_train = train_df['churndep'] # target variable\n",
        "x_train = train_df.drop('churndep', axis=1)\n",
        "y_test = test_df['churndep']\n",
        "x_test = test_df.drop('churndep', axis=1)\n",
        "\n",
        "clf.fit(x_train, y_train)"
      ],
      "execution_count": 0,
      "outputs": [
        {
          "output_type": "execute_result",
          "data": {
            "text/plain": [
              "DecisionTreeClassifier(class_weight=None, criterion='entropy', max_depth=None,\n",
              "                       max_features=None, max_leaf_nodes=None,\n",
              "                       min_impurity_decrease=0.0, min_impurity_split=None,\n",
              "                       min_samples_leaf=1, min_samples_split=2,\n",
              "                       min_weight_fraction_leaf=0.0, presort=False,\n",
              "                       random_state=None, splitter='best')"
            ]
          },
          "metadata": {
            "tags": []
          },
          "execution_count": 6
        }
      ]
    },
    {
      "cell_type": "markdown",
      "metadata": {
        "colab_type": "text",
        "id": "TgTx-SamNIz0"
      },
      "source": [
        "4\\. Using the resulting model from 2.3, show a bar plot of feature names and their feature importance (hint: check the attributes of the `DecisionTreeClassifier()` object directly in IPython or check the manual!).\n",
        "\n",
        "(3 Points)"
      ]
    },
    {
      "cell_type": "code",
      "metadata": {
        "colab_type": "code",
        "id": "11C9tDdXNIz1",
        "outputId": "fa9a9d7a-f11f-4f97-a6f5-ac80adf40be2",
        "scrolled": true,
        "colab": {
          "base_uri": "https://localhost:8080/",
          "height": 545
        }
      },
      "source": [
        "featureimp = clf.feature_importances_\n",
        "cols = x_test.columns\n",
        "\n",
        "df=pd.DataFrame.from_dict({'col': cols, 'imp': featureimp})\n",
        "import matplotlib.pyplot as plt\n",
        "import seaborn as sns\n",
        "sns.set()\n",
        "%matplotlib inline\n",
        "plt.figure(figsize=(10,8))\n",
        "sns.barplot(x='col', y='imp', data=df)"
      ],
      "execution_count": 0,
      "outputs": [
        {
          "output_type": "execute_result",
          "data": {
            "text/plain": [
              "<matplotlib.axes._subplots.AxesSubplot at 0x7f2554371898>"
            ]
          },
          "metadata": {
            "tags": []
          },
          "execution_count": 7
        },
        {
          "output_type": "display_data",
          "data": {
            "image/png": "[encoded data removed]",
            "text/plain": [
              "<Figure size 720x576 with 1 Axes>"
            ]
          },
          "metadata": {
            "tags": []
          }
        }
      ]
    },
    {
      "cell_type": "markdown",
      "metadata": {
        "colab_type": "text",
        "id": "y0YTtA-UNIz4"
      },
      "source": [
        "5\\. Is the relationship between the top 3 most important features (as measured here) negative or positive? If your marketing director asked you to explain the top 3 drivers of churn, how would you interpret the relationship between these 3 features and the churn outcome?  What \"real-life\" connection can you draw between each variable and churn?\n",
        "\n",
        "(2 Points)"
      ]
    },
    {
      "cell_type": "code",
      "metadata": {
        "colab_type": "code",
        "id": "JDc6FNl9NIz4",
        "outputId": "8041685f-7968-4f51-c26f-fb0f7c0a8d34",
        "colab": {
          "base_uri": "https://localhost:8080/",
          "height": 175
        }
      },
      "source": [
        "# Create a \n",
        "corr_df = cell[['revenue','eqpdays', 'outcalls','churndep']].copy()\n",
        "corr_df.corr()"
      ],
      "execution_count": 0,
      "outputs": [
        {
          "output_type": "execute_result",
          "data": {
            "text/html": [
              "<div>\n",
              "<style scoped>\n",
              "    .dataframe tbody tr th:only-of-type {\n",
              "        vertical-align: middle;\n",
              "    }\n",
              "\n",
              "    .dataframe tbody tr th {\n",
              "        vertical-align: top;\n",
              "    }\n",
              "\n",
              "    .dataframe thead th {\n",
              "        text-align: right;\n",
              "    }\n",
              "</style>\n",
              "<table border=\"1\" class=\"dataframe\">\n",
              "  <thead>\n",
              "    <tr style=\"text-align: right;\">\n",
              "      <th></th>\n",
              "      <th>revenue</th>\n",
              "      <th>eqpdays</th>\n",
              "      <th>outcalls</th>\n",
              "      <th>churndep</th>\n",
              "    </tr>\n",
              "  </thead>\n",
              "  <tbody>\n",
              "    <tr>\n",
              "      <th>revenue</th>\n",
              "      <td>1.000000</td>\n",
              "      <td>-0.221958</td>\n",
              "      <td>0.500870</td>\n",
              "      <td>-0.013566</td>\n",
              "    </tr>\n",
              "    <tr>\n",
              "      <th>eqpdays</th>\n",
              "      <td>-0.221958</td>\n",
              "      <td>1.000000</td>\n",
              "      <td>-0.243999</td>\n",
              "      <td>0.112731</td>\n",
              "    </tr>\n",
              "    <tr>\n",
              "      <th>outcalls</th>\n",
              "      <td>0.500870</td>\n",
              "      <td>-0.243999</td>\n",
              "      <td>1.000000</td>\n",
              "      <td>-0.037233</td>\n",
              "    </tr>\n",
              "    <tr>\n",
              "      <th>churndep</th>\n",
              "      <td>-0.013566</td>\n",
              "      <td>0.112731</td>\n",
              "      <td>-0.037233</td>\n",
              "      <td>1.000000</td>\n",
              "    </tr>\n",
              "  </tbody>\n",
              "</table>\n",
              "</div>"
            ],
            "text/plain": [
              "           revenue   eqpdays  outcalls  churndep\n",
              "revenue   1.000000 -0.221958  0.500870 -0.013566\n",
              "eqpdays  -0.221958  1.000000 -0.243999  0.112731\n",
              "outcalls  0.500870 -0.243999  1.000000 -0.037233\n",
              "churndep -0.013566  0.112731 -0.037233  1.000000"
            ]
          },
          "metadata": {
            "tags": []
          },
          "execution_count": 8
        }
      ]
    },
    {
      "cell_type": "markdown",
      "metadata": {
        "colab_type": "text",
        "id": "8dLj8zggNIz6"
      },
      "source": [
        "<p>\n",
        "<span style=\"color:blue\">\n",
        "Relationship between the top 3 most important features:<br>\n",
        "  \n",
        "1. Revenue is postively correlated to outcalls with the correlation values to be 0.500870\n",
        "2. Revenue is negatively correlated to eqpdays with the correlation values to be -0.221958\n",
        "3. Eqpdays is negatively correlated to eqpdays with the correlation values to be -0.243999\n",
        "  \n",
        "We can observe a relationship between the top 3 most important features with the churndep from the correlation matrix.\n",
        "  \n",
        "1. Revenue is negatively correlated to the churndep with a correlation value to be -0.013566. In real world, this interprets to the fact that if the revenue for the company is increasing, then it is negatively impacting the customers like the company might be earning more revenue by increasing the rates for the plans which they sell to the market, but for a customer this could be a crucial factor for costumer to continue with the current plan or go to a different carrier since the company has increased the rates for the plan.\n",
        "  \n",
        "2. Eqpdays is positively correlated to churndep with a correlation value to be 0.112731. In real world, this interprets to the fact that if the number of Eqpdays are increases, customers might not find the current carrier options for the devices suitable to needs and might consider to shift to new carriers. They might not like the current plans provided for the current carrier plan, hence increase in churndep.\n",
        "  \n",
        "3. outcalls is negatively churndep with a correlation value to be -0.037233. In real world, this interprets to the fact that if the number of outcalls are more, there is a decrease in churndep implying customers tend to stay more. Increase in more outgoing calls indicate successful usage of the services.\n",
        "</span>\n",
        "</p>"
      ]
    },
    {
      "cell_type": "markdown",
      "metadata": {
        "colab_type": "text",
        "id": "XnW4JuRoNIz6"
      },
      "source": [
        "6\\. Using the classifier built in 2.3, try predicting `\"churndep\"` on both the train_df and test_df data sets. What is the accuracy on each?\n",
        "\n",
        "(1 Point)"
      ]
    },
    {
      "cell_type": "code",
      "metadata": {
        "colab_type": "code",
        "id": "yRw1OKrdNIz7",
        "outputId": "36104004-c25c-4bfa-e525-d05213c38226",
        "colab": {
          "base_uri": "https://localhost:8080/",
          "height": 52
        }
      },
      "source": [
        "pred_train = clf.predict(x_train)\n",
        "pred_test = clf.predict(x_test)\n",
        "\n",
        "from sklearn.metrics import accuracy_score\n",
        "\n",
        "print(\"Accuracy for training: \" , accuracy_score(y_train, pred_train))\n",
        "print(\"Accuracy for testing: \" , accuracy_score(y_test, pred_test))"
      ],
      "execution_count": 0,
      "outputs": [
        {
          "output_type": "stream",
          "text": [
            "Accuracy for training:  0.9998118355442657\n",
            "Accuracy for testing:  0.5309834420471651\n"
          ],
          "name": "stdout"
        }
      ]
    },
    {
      "cell_type": "markdown",
      "metadata": {
        "colab_type": "text",
        "id": "S_D60uGoNIz9"
      },
      "source": [
        "### Part 2 - Finding a Good Decision Tree (Total 10 Points)\n",
        "The default options for your decision tree may not be optimal. We need to analyze whether tuning the parameters can improve the accuracy of the classifier.  For the following options `min_samples_split` and `min_samples_leaf`:|"
      ]
    },
    {
      "cell_type": "markdown",
      "metadata": {
        "colab_type": "text",
        "id": "aafIlV1fNIz9"
      },
      "source": [
        "1\\. Generate a list of 10 values of each for the parameters min_samples_split and min_samples_leaf. \n",
        "\n",
        "(1 Point)"
      ]
    },
    {
      "cell_type": "code",
      "metadata": {
        "colab_type": "code",
        "id": "hxzIrs-fNIz-",
        "colab": {}
      },
      "source": [
        "min_samples_split = np.arange(10, 1000, 100)\n",
        "min_samples_leaf = np.arange(10, 1000, 100)"
      ],
      "execution_count": 0,
      "outputs": []
    },
    {
      "cell_type": "markdown",
      "metadata": {
        "colab_type": "text",
        "id": "d0sXpsmRNIz_"
      },
      "source": [
        "2. Explain in words your reasoning for choosing the above ranges.\n",
        "\n",
        "(1 Points)"
      ]
    },
    {
      "cell_type": "markdown",
      "metadata": {
        "colab_type": "text",
        "id": "9uLBAfaLNIz_"
      },
      "source": [
        "<p>\n",
        "<span style=\"color:blue\">\n",
        "The model developed shows overfitting of the data as shown by the difference in accuracy no train and test data set.\n",
        "  \n",
        "  \n",
        "1. We choose a higher min_samples_split as the default value of 2 is very low and causes our model to overfit on the training data. Since the size of the data is very large, we select larger values.\n",
        "\n",
        "2. We choose a higher min_samples_leaf as the default value of 1 is too low. However, we don't want the value to be too high as it can result in the model to demonstrate low variance and high bias.\n",
        "\n",
        "</span>\n",
        "</p>"
      ]
    },
    {
      "cell_type": "markdown",
      "metadata": {
        "colab_type": "text",
        "id": "y8LWkYbqNI0A"
      },
      "source": [
        "3\\. For each combination of values in 3.1 (there should be 100), build a new classifier and check the classifier's accuracy on the test data. Plot the test set accuracy for these options. Use the values of `min_samples_split` as the x-axis and generate a new series (line) for each of `min_samples_leaf`.\n",
        "\n",
        "(5 Points)"
      ]
    },
    {
      "cell_type": "code",
      "metadata": {
        "colab_type": "code",
        "id": "kNEq3Mn3NI0A",
        "outputId": "ede97276-d937-4794-9f96-958f310184f0",
        "colab": {
          "base_uri": "https://localhost:8080/",
          "height": 392
        }
      },
      "source": [
        "def DtreeIter(train_features,train_target,test_features,test_target,samplesplit,sampleleaf):\n",
        "    treeOpt=DecisionTreeClassifier(criterion=\"entropy\",min_samples_split=samplesplit,min_samples_leaf=sampleleaf)\n",
        "    treeOpt=treeOpt.fit(train_features,train_target)\n",
        "    result_Opt=treeOpt.predict(test_features)\n",
        "    return accuracy_score(test_target,result_Opt)\n",
        "\n",
        "result_optimise=dict()\n",
        "for values in min_samples_split:\n",
        "    result_optimise[values]=list()\n",
        "\n",
        "for values in min_samples_split:\n",
        "    for nodes in min_samples_leaf:\n",
        "        result_optimise[values].append([DtreeIter(x_train,y_train,x_test,y_test,values,nodes)])\n",
        "\n",
        "      \n",
        "        \n",
        "#To find out best parameters        \n",
        "optimal_split=max(result_optimise, key=lambda x: result_optimise[x][1])\n",
        "optimal_accuracy=max(result_optimise[optimal_split])\n",
        "optimal_leaf=min_samples_leaf[list(result_optimise[optimal_split]).index(optimal_accuracy)]\n",
        "print(\"Optimal 'Sample Split Size' is %d and 'Optimal Leaf Samples' are %d. Best accuracy is %.2f%%\" %(optimal_split,optimal_leaf,optimal_accuracy[0]*100))\n",
        "\n",
        "\n",
        "plt.figure(figsize=(10,5))\n",
        "plt.plot(min_samples_split,result_optimise[min_samples_leaf[0]],'b',label='Leaf={}'.format(min_samples_leaf[0]))\n",
        "plt.plot(min_samples_split,result_optimise[min_samples_leaf[1]],'r',label='Leaf={}'.format(min_samples_leaf[1]))\n",
        "plt.plot(min_samples_split,result_optimise[min_samples_leaf[2]],'y',label='Leaf={}'.format(min_samples_leaf[2]))\n",
        "plt.plot(min_samples_split,result_optimise[min_samples_leaf[3]],'g',label='Leaf={}'.format(min_samples_leaf[3]))\n",
        "plt.plot(min_samples_split,result_optimise[min_samples_leaf[4]],'c',label='Leaf={}'.format(min_samples_leaf[4]))\n",
        "plt.plot(min_samples_split,result_optimise[min_samples_leaf[5]],'m',label='Leaf={}'.format(min_samples_leaf[5]))\n",
        "plt.plot(min_samples_split,result_optimise[min_samples_leaf[6]],'k',label='Leaf={}'.format(min_samples_leaf[6]))\n",
        "plt.plot(min_samples_split,result_optimise[min_samples_leaf[7]],'b',label='Leaf={}'.format(min_samples_leaf[7]))\n",
        "plt.plot(min_samples_split,result_optimise[min_samples_leaf[8]],'r',label='Leaf={}'.format(min_samples_leaf[8]))\n",
        "plt.plot(min_samples_split,result_optimise[min_samples_leaf[9]],'y',label='Leaf={}'.format(min_samples_leaf[9]))\n",
        "plt.legend(loc=4)\n",
        "plt.xlabel('Min Sample Splits')\n",
        "plt.ylabel('Accuracy')\n",
        "plt.title('Classifier Accuracy')\n",
        "plt.show()"
      ],
      "execution_count": 0,
      "outputs": [
        {
          "output_type": "stream",
          "text": [
            "Optimal 'Sample Split Size' is 810 and 'Optimal Leaf Samples' are 110. Best accuracy is 59.09%\n"
          ],
          "name": "stdout"
        },
        {
          "output_type": "display_data",
          "data": {
            "image/png": "[encoded data removed]",
            "text/plain": [
              "<Figure size 720x360 with 1 Axes>"
            ]
          },
          "metadata": {
            "tags": []
          }
        }
      ]
    },
    {
      "cell_type": "markdown",
      "metadata": {
        "colab_type": "text",
        "id": "5v__yHSFNI0B"
      },
      "source": [
        "4\\. Which configuration returns the best accuracy? What is this accuracy? (Note, if you don't see much variation in the test set accuracy across values of min_samples_split or min_samples_leaf, try redoing the above steps with a different range of values).\n",
        "\n",
        "(1 Point)"
      ]
    },
    {
      "cell_type": "markdown",
      "metadata": {
        "colab_type": "text",
        "collapsed": true,
        "id": "0ztejx0xNI0C"
      },
      "source": [
        "<p>\n",
        "<span style=\"color:blue\">\n",
        "When we set the Sample Split size to 710 and the Optimal Leaf Samples to 110, we get the best accuracy of 59.09% This accuracy represents the percentage of times our model predicts the correct output. Values predicted by the model are compared with actual value in the test data set to determine this parameter.\n",
        "</span>\n",
        "</p>"
      ]
    },
    {
      "cell_type": "markdown",
      "metadata": {
        "colab_type": "text",
        "id": "qo5P41R0NI0D"
      },
      "source": [
        "5\\. If you were working for a marketing department, how would you use your churn production model in a real business environment? Explain why churn prediction might be good for the business and how one might improve churn by using this model.\n",
        "\n",
        "(2 Points)"
      ]
    },
    {
      "cell_type": "markdown",
      "metadata": {
        "colab_type": "text",
        "id": "Q5Ou43VNNI0D"
      },
      "source": [
        "<p>\n",
        "<span style=\"color:blue\">\n",
        "\n",
        "* By analysing customer churn, a company can take reasonable steps to retain the existing customer. Losing a customer will not only cost the company in lost revenue, but the company will also incur additional cost to bring in a new customer which often results in higher costs due to extra advertising or onboarding benefits. Customer acquisition is 5-40 times more expensive than customer retention and it makes economic sense for the company to keep existing customers happy. Doing so may also result in an increase in profits due to increased engagement with customers.\n",
        "    \n",
        "* By analysing employee churn, a company can retain its high performing employees by rewarding them with perks and benefits as the salesperson is often the face of the company during negotiations. Loss of a high performing employee will cause a drop in sales and might also cause existing customers associated with that salesperson to shift loyalties.\n",
        "\n",
        "* By referring to the churn prediction model, the company can take decisive steps to pursue its employees and customers.\n",
        "\n",
        "    E.g.: A customer identified by the model may be rewarded with a free discount voucher or a free exclusive service for a trial period or more industry relevant and personally rewarding offers. By doing so, the customer may feel more attached to the company resulting in an enhanced utilisation of related products and services.\n",
        "  <br>\n",
        "    E.g.: A high performing salesperson identified by the model can be rewarded with a free holiday package or a free mobile phone or more personally rewarding products and services in order to increase the employee's association with the company.\n",
        "\n",
        "</span>\n",
        "</p>"
      ]
    },
    {
      "cell_type": "markdown",
      "metadata": {
        "colab_type": "text",
        "collapsed": true,
        "id": "0aVE4IhXNI0D"
      },
      "source": [
        "### Part 3 - Working with Time Series (Total 10 Points)\n",
        "Here we will analyze a timeseries of number of Yellow Fever cases from a specific Asian country by year. The data is from 1700 – 2008. The file `cases.csv` is available in the data folder.\n",
        "\n"
      ]
    },
    {
      "cell_type": "markdown",
      "metadata": {
        "colab_type": "text",
        "id": "xlTp7BTlNI0E"
      },
      "source": [
        "1\\. Load the cases data set, and prepare the dataset by converting the variables to date-time format (hint: use date tools). (1 point)"
      ]
    },
    {
      "cell_type": "code",
      "metadata": {
        "colab_type": "code",
        "id": "CU4D9aGlNI0E",
        "colab": {}
      },
      "source": [
        "from scipy import stats\n",
        "from statsmodels.graphics.api import qqplot\n",
        "\n",
        "df = pd.read_csv(\"/content/gdrive/My Drive/CS6053_HW3/cases.csv\")\n",
        "df[\"YEAR\"] = pd.to_datetime(df[\"YEAR\"], format=\"%Y\")"
      ],
      "execution_count": 0,
      "outputs": []
    },
    {
      "cell_type": "markdown",
      "metadata": {
        "colab_type": "text",
        "id": "4QigBXLRNI0F"
      },
      "source": [
        "2\\. Plot the autocorrelation function (ACF) and partial autocorrelation function (PCF) of the cases timeseries. (1 point)"
      ]
    },
    {
      "cell_type": "code",
      "metadata": {
        "colab_type": "code",
        "id": "XOprbk_sNI0G",
        "outputId": "89bf351e-986f-48a6-fe42-aa2d418562cc",
        "colab": {
          "base_uri": "https://localhost:8080/",
          "height": 568
        }
      },
      "source": [
        "from pandas.plotting import autocorrelation_plot\n",
        "import statsmodels.api as sm\n",
        "from statsmodels.tsa.arima_model import ARIMA, ARIMAResults\n",
        "from statsmodels.tsa.stattools import acf, pacf\n",
        "from statsmodels.graphics.tsaplots import plot_acf, plot_pacf\n",
        "\n",
        "d = dict(zip(df.YEAR, df.YFCASES))\n",
        "series_acf = pd.Series(d)\n",
        "f = plt.figure(1,figsize = (14,14))\n",
        "plot_acf(series_acf, lags = 40, title = 'Autocorrelation from statsmodels')\n",
        "f2 = plt.figure(2)\n",
        "plot_pacf(series_acf, lags = 40)\n",
        "plt.show()"
      ],
      "execution_count": 0,
      "outputs": [
        {
          "output_type": "display_data",
          "data": {
            "text/plain": [
              "<Figure size 1008x1008 with 0 Axes>"
            ]
          },
          "metadata": {
            "tags": []
          }
        },
        {
          "output_type": "display_data",
          "data": {
            "image/png": "[encoded data removed]",
            "text/plain": [
              "<Figure size 432x288 with 1 Axes>"
            ]
          },
          "metadata": {
            "tags": []
          }
        },
        {
          "output_type": "display_data",
          "data": {
            "image/png": "[encoded data removed]",
            "text/plain": [
              "<Figure size 432x288 with 1 Axes>"
            ]
          },
          "metadata": {
            "tags": []
          }
        }
      ]
    },
    {
      "cell_type": "markdown",
      "metadata": {
        "colab_type": "text",
        "id": "yxR6TkcVNI0I"
      },
      "source": [
        "3\\. Describe what the plots indicate (in terms of autocorrelation and autoregressive parameter (p) and moving average (q)). 2 points.\n",
        "Some rules of thumb to recall:<br>\n",
        "Rule 1: If the ACF shows exponential decay, the PACF has a spike at lag 1, and no correlation for other lags, then use one autoregressive (p)parameter <br>\n",
        "Rule 2: If the ACF shows a sine-wave shape pattern or a set of exponential decays, the PACF has spikes at lags 1 and 2, and no correlation for other lags, the use two autoregressive (p) parameters. <br>\n",
        "Rule 3: If the ACF has a spike at lag 1, no correlation for other lags, and the PACF damps out exponentially, then use one moving average (q) parameter. <br>\n",
        "Rule 4: If the ACF has spikes at lags 1 and 2, no correlation for other lags, and the PACF has a sine-wave shape pattern or a set of exponential decays, then use two moving average (q) parameter.<br>\n",
        "Rule 5: If the ACF shows exponential decay starting at lag 1, and the PACF shows exponential decay starting at lag 1, then use one autoregressive (p) and one moving average (q) parameter.<br>\n"
      ]
    },
    {
      "cell_type": "markdown",
      "metadata": {
        "colab_type": "text",
        "id": "UwW0eFmrXyxr"
      },
      "source": [
        "1. The autocorrelation plot shows a sine-wave pattern meaning that the data exhibits strong seasonality.\n",
        "2. The partial autocorrelation plot shows sharp spikes at lag of 1 and 2.\n",
        "\n",
        "We use \"Rule 2\" and select the autocorrelation parameter as 2 i.e. p=2 and q=0"
      ]
    },
    {
      "cell_type": "markdown",
      "metadata": {
        "colab_type": "text",
        "id": "VKwDgehzNI0M"
      },
      "source": [
        "4\\. Another approach to assessing the presence of autocorrelation is by using the  Durbin-Waton (DW) statistic. The value of the DW statistic is close to 2 if the errors are uncorrelated. What is DW for our data, and does this match what you observed from the ACF and PCF plots? (1 point) "
      ]
    },
    {
      "cell_type": "code",
      "metadata": {
        "colab_type": "code",
        "id": "_38w1ZkyNI0M",
        "outputId": "ff18b727-8c1a-45c4-ae19-23c6f03163b1",
        "colab": {
          "base_uri": "https://localhost:8080/",
          "height": 89
        }
      },
      "source": [
        "# from statsmodels.stats.stattools import durbin_watson\n",
        "# durbin_watson(series_acf)\n",
        "\n",
        "import statsmodels.api as sm\n",
        "from statsmodels.tsa.arima_model import ARMA\n",
        "\n",
        "df2=df.set_index('YEAR')\n",
        "yf_cases=df2.astype(float)\n",
        "arma_model = sm.tsa.ARMA(yf_cases, (3,0)).fit()\n",
        "\n",
        "sm.stats.durbin_watson(arma_model.resid.values)"
      ],
      "execution_count": 0,
      "outputs": [
        {
          "output_type": "stream",
          "text": [
            "/usr/local/lib/python3.6/dist-packages/statsmodels/tsa/base/tsa_model.py:165: ValueWarning: No frequency information was provided, so inferred frequency AS-JAN will be used.\n",
            "  % freq, ValueWarning)\n"
          ],
          "name": "stderr"
        },
        {
          "output_type": "execute_result",
          "data": {
            "text/plain": [
              "1.956480935071552"
            ]
          },
          "metadata": {
            "tags": []
          },
          "execution_count": 37
        }
      ]
    },
    {
      "cell_type": "markdown",
      "metadata": {
        "colab_type": "text",
        "id": "Tosqxs3HNI0N"
      },
      "source": [
        "5\\. Removing serial dependency by modeling a simple ARMA process with p and q as derived above. Take a look at what the resulting process looks like (plot) (1 point)\n"
      ]
    },
    {
      "cell_type": "code",
      "metadata": {
        "colab_type": "code",
        "id": "agM2BAJNNI0N",
        "outputId": "0254367d-e89c-4a27-f9ae-1226e9b4e26b",
        "colab": {
          "base_uri": "https://localhost:8080/",
          "height": 526
        }
      },
      "source": [
        "df2=df.set_index('YEAR')\n",
        "yf_cases=df2.astype(float)\n",
        "arma_model = sm.tsa.ARMA(yf_cases, (3,0)).fit()\n",
        "plt.figure(figsize=(10,7))\n",
        "arma_model.resid.plot()"
      ],
      "execution_count": 0,
      "outputs": [
        {
          "output_type": "stream",
          "text": [
            "/usr/local/lib/python3.6/dist-packages/statsmodels/tsa/base/tsa_model.py:165: ValueWarning: No frequency information was provided, so inferred frequency AS-JAN will be used.\n",
            "  % freq, ValueWarning)\n"
          ],
          "name": "stderr"
        },
        {
          "output_type": "execute_result",
          "data": {
            "text/plain": [
              "<matplotlib.axes._subplots.AxesSubplot at 0x7f2545dc75c0>"
            ]
          },
          "metadata": {
            "tags": []
          },
          "execution_count": 23
        },
        {
          "output_type": "display_data",
          "data": {
            "image/png": "[encoded data removed]",
            "text/plain": [
              "<Figure size 720x504 with 1 Axes>"
            ]
          },
          "metadata": {
            "tags": []
          }
        }
      ]
    },
    {
      "cell_type": "markdown",
      "metadata": {
        "colab_type": "text",
        "collapsed": true,
        "id": "XEtqJ89ENI0O"
      },
      "source": [
        "6\\. Calculate the residuals, and test the null hypothesis that the residuals come from a normal distribution, and construct a qq-plot. Do the results of the hypothesis test and qq-plot align? (1 point)\n",
        "\n"
      ]
    },
    {
      "cell_type": "code",
      "metadata": {
        "colab_type": "code",
        "id": "dICWdqpPNI0P",
        "outputId": "f874a9f5-93d7-4d9c-92e2-1300fb2777e6",
        "scrolled": true,
        "colab": {
          "base_uri": "https://localhost:8080/",
          "height": 602
        }
      },
      "source": [
        "plt.figure(figsize=(10,7))\n",
        "from statsmodels.graphics.api import qqplot\n",
        "import scipy.stats as stats\n",
        "residuals = arma_model.resid\n",
        "print(stats.normaltest(residuals))\n",
        "\n",
        "qqplot(residuals, line=\"q\" ,fit=True)"
      ],
      "execution_count": 0,
      "outputs": [
        {
          "output_type": "stream",
          "text": [
            "NormaltestResult(statistic=49.84499867475388, pvalue=1.5007075329892837e-11)\n"
          ],
          "name": "stdout"
        },
        {
          "output_type": "execute_result",
          "data": {
            "image/png": "[encoded data removed]",
            "text/plain": [
              "<Figure size 432x288 with 1 Axes>"
            ]
          },
          "metadata": {
            "tags": []
          },
          "execution_count": 29
        },
        {
          "output_type": "display_data",
          "data": {
            "image/png": "[encoded data removed]",
            "text/plain": [
              "<Figure size 432x288 with 1 Axes>"
            ]
          },
          "metadata": {
            "tags": []
          }
        }
      ]
    },
    {
      "cell_type": "markdown",
      "metadata": {
        "colab_type": "text",
        "id": "3a-dXghFNI0Q"
      },
      "source": [
        "<p>\n",
        "<span style=\"color:blue\">\n",
        "Place your response here\n",
        "</span>\n",
        "</p>\n"
      ]
    },
    {
      "cell_type": "markdown",
      "metadata": {
        "colab_type": "text",
        "id": "oEi53E2KNI0Q"
      },
      "source": [
        "7\\. Now investigate the autocorrelation of your ARMA(p,q) model. Did it improve?\n",
        "These can be examined graphically, but a statistic will help.\n",
        "Next, we calculate the lag, autocorrelation (AC), Q statistic and Prob>Q. \n",
        "The Ljung–Box Q test is a type of statistical test of whether any of a group of autocorrelations of a time series are different from zero. The null hypothesis is, H0: The data are independently distributed (i.e. the correlations in the population from which the sample is taken are 0, so that any observed correlations in the data result from randomness of the sampling process). (Hint: use qstat in tsa.acf).\n"
      ]
    },
    {
      "cell_type": "code",
      "metadata": {
        "colab_type": "code",
        "id": "Ge6ufBFTNI0R",
        "outputId": "88b43c7f-8bd0-4f4f-f2b5-74a428b328ad",
        "colab": {
          "base_uri": "https://localhost:8080/",
          "height": 948
        }
      },
      "source": [
        "plt.figure(figsize=(15,5))\n",
        "plt.title(\"Autocorrelation plot\")\n",
        "autocorrelation_plot(arma_model.resid)\n",
        "plt.show()\n",
        "acfValue=acf(arma_model.resid,qstat=True)\n",
        "autocorrelation_value=acfValue[0]\n",
        "qstat_value=acfValue[1]\n",
        "p_value=acfValue[2]\n",
        "acfValue"
      ],
      "execution_count": 0,
      "outputs": [
        {
          "output_type": "stream",
          "text": [
            "/usr/local/lib/python3.6/dist-packages/matplotlib/pyplot.py:935: UserWarning: Requested projection is different from current axis projection, creating new axis with requested projection.\n",
            "  return gcf().gca(**kwargs)\n"
          ],
          "name": "stderr"
        },
        {
          "output_type": "display_data",
          "data": {
            "image/png": "[encoded data removed]",
            "text/plain": [
              "<Figure size 1080x360 with 2 Axes>"
            ]
          },
          "metadata": {
            "tags": []
          }
        },
        {
          "output_type": "stream",
          "text": [
            "/usr/local/lib/python3.6/dist-packages/statsmodels/tsa/stattools.py:541: FutureWarning: fft=True will become the default in a future version of statsmodels. To suppress this warning, explicitly set fft=False.\n",
            "  warnings.warn(msg, FutureWarning)\n"
          ],
          "name": "stderr"
        },
        {
          "output_type": "execute_result",
          "data": {
            "text/plain": [
              "(array([ 1.00000000e+00, -8.52201480e-02,  1.03691479e-01, -2.78328801e-02,\n",
              "         9.11224849e-02,  1.90096107e-02,  3.13205156e-02,  4.44845860e-02,\n",
              "        -3.43373295e-02,  1.85689571e-01,  1.91607611e-01,  1.90384965e-01,\n",
              "         1.21692867e-01, -1.62188248e-02,  1.49863352e-02, -6.31966396e-02,\n",
              "         3.97300545e-02,  9.57661957e-03, -7.36448074e-02,  7.64692146e-02,\n",
              "        -6.82679616e-03,  8.88181389e-02,  1.20484588e-01,  1.03328483e-01,\n",
              "        -8.57282331e-02,  1.37300213e-02, -3.61829740e-02, -1.50155878e-01,\n",
              "         4.96801663e-02, -5.54670861e-02,  3.35398983e-03, -1.09052767e-02,\n",
              "         1.20385666e-01,  4.26796266e-02,  1.11070938e-02,  2.42613168e-02,\n",
              "        -1.25046084e-01, -3.63935185e-02, -6.05085366e-02, -2.44395736e-02,\n",
              "         5.81176082e-04]),\n",
              " array([ 2.26596251,  5.63159455,  5.87487865,  8.49107382,  8.60530686,\n",
              "         8.91643124,  9.54612738,  9.9225584 , 20.96773439, 32.76749485,\n",
              "        44.45624031, 49.24797393, 49.33337551, 49.40653788, 50.71198568,\n",
              "        51.22969927, 51.25988214, 53.05094216, 54.98867603, 55.00417329,\n",
              "        57.63643895, 62.49715181, 66.08466037, 68.56277707, 68.62656565,\n",
              "        69.07113647, 76.754554  , 77.59862432, 78.6545456 , 78.6584203 ,\n",
              "        78.6995303 , 83.72745376, 84.36168994, 84.40480083, 84.61124235,\n",
              "        90.11547033, 90.58341882, 91.8817422 , 92.09433197, 92.09445263]),\n",
              " array([1.32244027e-01, 5.98569774e-02, 1.17858893e-01, 7.51582562e-02,\n",
              "        1.25881155e-01, 1.78332756e-01, 2.15785463e-01, 2.70503450e-01,\n",
              "        1.27944580e-02, 2.98002227e-04, 6.04548053e-06, 1.89282160e-06,\n",
              "        3.87795067e-06, 7.67352711e-06, 9.20642183e-06, 1.45745853e-05,\n",
              "        2.68675904e-05, 2.57647133e-05, 2.33367040e-05, 4.10025108e-05,\n",
              "        2.89078648e-05, 9.47327847e-06, 4.81663013e-06, 3.60159185e-06,\n",
              "        6.14212775e-06, 9.04940454e-06, 1.16048919e-06, 1.51262091e-06,\n",
              "        1.81987409e-06, 3.07471378e-06, 5.04686863e-06, 1.63861163e-06,\n",
              "        2.21657972e-06, 3.58508668e-06, 5.43209412e-06, 1.55596572e-06,\n",
              "        2.17775821e-06, 2.33557618e-06, 3.48388007e-06, 5.48017746e-06]))"
            ]
          },
          "metadata": {
            "tags": []
          },
          "execution_count": 25
        }
      ]
    },
    {
      "cell_type": "markdown",
      "metadata": {
        "colab_type": "text",
        "id": "JsOXMGhRNI0S"
      },
      "source": [
        "<p>\n",
        "<span style=\"color:blue\">\n",
        "\n",
        "\n",
        "*   The autocorrelation plot has improved as the sinusoidal pattern is absent now. We have reduced the impact of seasonality using the ARMA model.\n",
        "*   The Ljung-Box Q test is useed to indicate whether our data is independently distributed or not. By observing the p-values, we can reject the null hypothesis of the data being independently distributed. \n",
        "\n",
        "\n",
        "</span>\n",
        "</p>"
      ]
    },
    {
      "cell_type": "markdown",
      "metadata": {
        "colab_type": "text",
        "collapsed": true,
        "id": "gcZI8O9hNI0S"
      },
      "source": [
        "8\\. Compute prediction for years 2009-2012 and analyze their fit against actual values. (1 point)\n",
        "\n"
      ]
    },
    {
      "cell_type": "code",
      "metadata": {
        "colab_type": "code",
        "id": "0aBwpWSTNI0S",
        "outputId": "135f897b-bba6-49a5-c15e-53fa6dc6862d",
        "colab": {
          "base_uri": "https://localhost:8080/",
          "height": 104
        }
      },
      "source": [
        "from pandas import datetime\n",
        "begin_year = datetime(2009,1,1)\n",
        "end_year = datetime(2012,1,1)\n",
        "forecasted = arma_model.predict(start=begin_year, end=end_year)\n",
        "forecasted"
      ],
      "execution_count": 0,
      "outputs": [
        {
          "output_type": "execute_result",
          "data": {
            "text/plain": [
              "2009-01-01    14.753358\n",
              "2010-01-01    33.507852\n",
              "2011-01-01    52.477667\n",
              "2012-01-01    66.087985\n",
              "Freq: AS-JAN, dtype: float64"
            ]
          },
          "metadata": {
            "tags": []
          },
          "execution_count": 18
        }
      ]
    },
    {
      "cell_type": "markdown",
      "metadata": {
        "colab_type": "text",
        "id": "N8gJHLViNI0T"
      },
      "source": [
        "9\\. Calculate the forecast error via MAE and MFE.  (2 points)\n",
        "Reminders:\n",
        "Mean absolute error: The mean absolute error (MAE) value is computed as the average absolute error value. If MAE is zero the forecast is perfect. As compared to the mean squared error (MSE), this measure of fit “de-emphasizes” outliers (unique or rare large error values will affect the MAE less than the MSE.\n",
        "\n",
        "Mean Forecast Error (MFE, also known as Bias). The MFE is the average error in the observations. A large positive MFE means that the forecast is undershooting the actual observations. A large negative MFE means the forecast is overshooting the actual observations. A value near zero is ideal, and generally a small value means a pretty good fit. \n",
        "\n",
        "The MAE is a better indicator of fit than the MFE.\n",
        "\n"
      ]
    },
    {
      "cell_type": "code",
      "metadata": {
        "colab_type": "code",
        "id": "F9yzuuNONI0U",
        "outputId": "936dea58-40e6-4bcd-d42a-3e1a713dea1e",
        "colab": {
          "base_uri": "https://localhost:8080/",
          "height": 34
        }
      },
      "source": [
        "from sklearn.metrics import mean_absolute_error\n",
        "from sklearn.metrics import mean_squared_error\n",
        "\n",
        "ferror_begin=datetime(1700,1,1)\n",
        "ferror_end=datetime(2008,1,1)\n",
        "predictionARMA=arma_model.predict(start=ferror_begin,end=ferror_end)\n",
        "MAE=mean_absolute_error(df[\"YFCASES\"],predictionARMA)\n",
        "MFE =np.mean(df.YFCASES.values.tolist()- predictionARMA)\n",
        "print(\"MAE is %f and MFE is %f\" %(MAE,MFE))\n"
      ],
      "execution_count": 0,
      "outputs": [
        {
          "output_type": "stream",
          "text": [
            "MAE is 12.554732 and MFE is -0.082178\n"
          ],
          "name": "stdout"
        }
      ]
    },
    {
      "cell_type": "markdown",
      "metadata": {
        "colab_type": "text",
        "id": "PaOKwQKozQaY"
      },
      "source": [
        "\n",
        "\n",
        "*   Mean Absolute Error (MAE) is 12.55 which means that the model is not perfect and that values predicted by the model deviate from the true values\n",
        "*   Mean Forecast Error (MFE) is -0.08 which implies that the model predicts values that are much lesser than the true values.\n",
        "\n"
      ]
    }
  ]
}